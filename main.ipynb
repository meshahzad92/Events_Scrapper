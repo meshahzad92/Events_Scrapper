{
 "cells": [
  {
   "cell_type": "code",
   "execution_count": 11,
   "metadata": {},
   "outputs": [],
   "source": [
    "import pandas as pd"
   ]
  },
  {
   "cell_type": "code",
   "execution_count": 23,
   "metadata": {},
   "outputs": [
    {
     "name": "stdout",
     "output_type": "stream",
     "text": [
      "✏ Please copy the **Event Name** and press **Enter** to confirm...\n",
      "📋 **Clipboard copied:** WWW.YWS.ON.CA\n",
      "🔔 Press **Enter** to confirm, or copy again to change...\n",
      "\n",
      "❌ Stopping clipboard monitor. Goodbye!\n"
     ]
    }
   ],
   "source": [
    "import csv\n",
    "import os\n",
    "import time\n",
    "import pyperclip\n",
    "import keyboard  # To detect key presses\n",
    "from IPython.display import clear_output  # To clear notebook output\n",
    "\n",
    "# CSV file setup\n",
    "CSV_FILE = \"umair_done.csv\"\n",
    "COLUMNS = [\"event_name\", \"website_link\", \"date_and_time\", \"location\", \"cost\", \"event_url\"]\n",
    "\n",
    "def append_to_csv(data):\n",
    "    \"\"\"Appends extracted data to CSV properly with correct newlines\"\"\"\n",
    "    file_exists = os.path.isfile(CSV_FILE)\n",
    "\n",
    "    with open(CSV_FILE, mode=\"a\", newline=\"\", encoding=\"utf-8\") as file:  \n",
    "        writer = csv.writer(file, lineterminator=\"\\n\")  # Ensure new lines work correctly\n",
    "\n",
    "        if not file_exists:\n",
    "            writer.writerow(COLUMNS)  # Write headers if file is new\n",
    "\n",
    "        writer.writerow(data)  # Append data properly\n",
    "        print(\"\\n✔ Data successfully added to CSV!\\n\")\n",
    "\n",
    "def clipboard_monitor():\n",
    "    \"\"\"Step-by-step clipboard input with confirmation\"\"\"\n",
    "    event_data = {col: None for col in COLUMNS}\n",
    "    steps = iter(COLUMNS)  # Iterator for step-by-step input\n",
    "    last_clipboard = \"\"\n",
    "    \n",
    "    print(\"\\n📋 **Step-by-Step Event Entry**\")\n",
    "    print(\"🔹 Copy each value when prompted, then press **Enter** to confirm.\\n\")\n",
    "    \n",
    "    try:\n",
    "        while True:\n",
    "            current_step = next(steps, None)  # Get the next field to fill\n",
    "            if not current_step:\n",
    "                break  # Exit loop if all fields are entered\n",
    "            \n",
    "            clear_output(wait=True)  # Clear output before each new step\n",
    "            \n",
    "            # Prompt user for the next field\n",
    "            print(f\"✏ Please copy the **{current_step.replace('_', ' ').title()}** and press **Enter** to confirm...\")\n",
    "\n",
    "            while True:\n",
    "                clipboard_text = pyperclip.paste().strip()\n",
    "\n",
    "                if clipboard_text and clipboard_text != last_clipboard:\n",
    "                    print(f\"📋 **Clipboard copied:** {clipboard_text}\")\n",
    "                    print(\"🔔 Press **Enter** to confirm, or copy again to change...\")\n",
    "\n",
    "                    # Wait for user confirmation (Enter key)\n",
    "                    keyboard.wait(\"enter\")  \n",
    "\n",
    "                    event_data[current_step] = clipboard_text\n",
    "                    print(f\"✅ {current_step.replace('_', ' ').title()} recorded: {clipboard_text}\\n\")\n",
    "                    last_clipboard = clipboard_text  # Update last copied content\n",
    "                    break  # Move to the next step\n",
    "                \n",
    "                time.sleep(1)  # Poll every 1 second\n",
    "\n",
    "        append_to_csv(list(event_data.values()))  # Save the event after all fields are filled\n",
    "        print(\"\\n🎉 Event successfully recorded! Start a new event entry...\\n\")\n",
    "        clipboard_monitor()  # Restart for a new event entry\n",
    "\n",
    "    except KeyboardInterrupt:\n",
    "        print(\"\\n❌ Stopping clipboard monitor. Goodbye!\")\n",
    "\n",
    "clipboard_monitor()  # Start the clipboard monitor\n",
    "\n"
   ]
  },
  {
   "cell_type": "code",
   "execution_count": null,
   "metadata": {},
   "outputs": [],
   "source": []
  }
 ],
 "metadata": {
  "kernelspec": {
   "display_name": "env",
   "language": "python",
   "name": "python3"
  },
  "language_info": {
   "codemirror_mode": {
    "name": "ipython",
    "version": 3
   },
   "file_extension": ".py",
   "mimetype": "text/x-python",
   "name": "python",
   "nbconvert_exporter": "python",
   "pygments_lexer": "ipython3",
   "version": "3.12.9"
  }
 },
 "nbformat": 4,
 "nbformat_minor": 2
}
