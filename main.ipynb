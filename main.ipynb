{
 "cells": [
  {
   "cell_type": "code",
   "execution_count": 34,
   "metadata": {},
   "outputs": [],
   "source": [
    "import pandas as pd"
   ]
  },
  {
   "cell_type": "code",
   "execution_count": null,
   "metadata": {},
   "outputs": [
    {
     "name": "stdout",
     "output_type": "stream",
     "text": [
      "Data successfully added to CSV!\n"
     ]
    }
   ],
   "source": [
    "import csv\n",
    "import os\n",
    "\n",
    "def append_to_csv(file_name=\"umair_done.csv\"):\n",
    "    \"\"\"\n",
    "    Appends manually entered event data to a CSV file.\n",
    "    If the file doesn't exist, it creates one with the appropriate headers.\n",
    "\n",
    "    :param file_name: Name of the CSV file (default: umair_done.csv)\n",
    "    \"\"\"\n",
    "    # Updated columns list to include the new columns\n",
    "    columns = [\"event_name\", \"date_and_time\", \"location\", \"cost\", \"event_url\"]\n",
    "    \n",
    "    # Check if the file exists, if not, create it with headers\n",
    "    file_exists = os.path.isfile(file_name)\n",
    "\n",
    "    with open(file_name, mode=\"a\", newline=\"\", encoding=\"utf-8\") as file:\n",
    "        writer = csv.writer(file)\n",
    "\n",
    "        # Write headers if the file is new\n",
    "        if not file_exists:\n",
    "            writer.writerow(columns)\n",
    "\n",
    "        # Prompt user to enter values manually\n",
    "        data = []\n",
    "        for col in columns:\n",
    "            value = input(f\"Enter {col.replace('_', ' ').title()}: \")\n",
    "            data.append(value)\n",
    "\n",
    "        # Append the new row\n",
    "        writer.writerow(data)\n",
    "        print(\"Data successfully added to CSV!\")\n",
    "\n",
    "# Run the function\n",
    "append_to_csv()\n"
   ]
  },
  {
   "cell_type": "code",
   "execution_count": null,
   "metadata": {},
   "outputs": [],
   "source": []
  }
 ],
 "metadata": {
  "kernelspec": {
   "display_name": "env",
   "language": "python",
   "name": "python3"
  },
  "language_info": {
   "codemirror_mode": {
    "name": "ipython",
    "version": 3
   },
   "file_extension": ".py",
   "mimetype": "text/x-python",
   "name": "python",
   "nbconvert_exporter": "python",
   "pygments_lexer": "ipython3",
   "version": "3.12.9"
  }
 },
 "nbformat": 4,
 "nbformat_minor": 2
}
